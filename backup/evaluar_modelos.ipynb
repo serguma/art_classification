{
 "cells": [
  {
   "cell_type": "code",
   "execution_count": 1,
   "metadata": {},
   "outputs": [],
   "source": [
    "%matplotlib inline\n",
    "import matplotlib.pyplot as plt\n",
    "\n",
    "import numpy as np\n",
    "import pandas as pd\n",
    "import seaborn as sns\n",
    "import os\n",
    "import pickle as pck\n",
    "\n",
    "from sklearn.feature_extraction import image\n",
    "from sklearn.preprocessing import LabelEncoder, MinMaxScaler\n",
    "\n",
    "from sklearn.model_selection import cross_val_score\n",
    "from sklearn.model_selection import cross_val_predict\n",
    "from sklearn.model_selection import train_test_split\n",
    "from sklearn import metrics\n",
    "\n",
    "from sklearn.multiclass import OneVsOneClassifier, OneVsRestClassifier\n",
    "from sklearn.metrics import confusion_matrix, accuracy_score, classification_report\n",
    "\n",
    "from sklearn.svm import SVC, SVR\n",
    "from sklearn.linear_model import LogisticRegression\n",
    "from sklearn.tree import DecisionTreeClassifier\n",
    "from sklearn.ensemble import RandomForestClassifier\n",
    "from sklearn.neighbors import KNeighborsClassifier\n",
    "from sklearn.naive_bayes import GaussianNB\n",
    "\n",
    "from sklearn.model_selection import GridSearchCV"
   ]
  },
  {
   "cell_type": "code",
   "execution_count": 2,
   "metadata": {},
   "outputs": [],
   "source": [
    "def evaluar_metodos(X, y, cv):\n",
    "    '''\n",
    "    Se van a evaluar SVC, LogisticRegression y RandomForestClassifier\n",
    "    Devuelve un diccionario con listas\n",
    "    0 : Mejor parámetro\n",
    "    1 : Mejor Score\n",
    "    2 : Tiempo\n",
    "    '''\n",
    "    valores_modelos = {}\n",
    "    \n",
    "    parametros = {'SVC' : {'kernel' : ('poly', 'rbf', 'sigmoid'), \n",
    "                          'C' : [1, 10, 100]},\n",
    "                  'LGR' : {'solver' : ('newton-cg', 'liblinear'), \n",
    "                          'C' : [1, 10, 100]},\n",
    "                  'RTF' : {'n_estimators' : [100, 200, 300], \n",
    "                         'max_depth' : [2, 4, 8, 10],\n",
    "                         'random_state' :[2, 4, 8, 10]}\n",
    "                 }\n",
    "    \n",
    "    modelos = {'SVC' : SVC(gamma = 'scale'),\n",
    "               'LGR' : LogisticRegression(max_iter = 300),\n",
    "               'RTF' : RandomForestClassifier()     \n",
    "              }\n",
    "    \n",
    "    for m in modelos:\n",
    "        clf = GridSearchCV(modelos[m], parametros[m], cv = cv)\n",
    "        clf.fit(X, y)\n",
    "        valores_modelos[m] = [clf.best_score_, clf.best_params_, clf.refit_time_]       \n",
    "   \n",
    "    return valores_modelos"
   ]
  },
  {
   "cell_type": "code",
   "execution_count": 3,
   "metadata": {},
   "outputs": [],
   "source": [
    "arch_feature = ''\n",
    "with (open('features/features-train.pck', 'rb')) as pc_file:\n",
    "    try:\n",
    "        arch_feature = pck.load(pc_file)\n",
    "    except EOFError as e:\n",
    "        print(e)"
   ]
  },
  {
   "cell_type": "code",
   "execution_count": 4,
   "metadata": {},
   "outputs": [],
   "source": [
    "arch_label = ''\n",
    "with (open('features/label-train.pck', 'rb')) as pc_file:\n",
    "    try:\n",
    "        arch_label = pck.load(pc_file)\n",
    "    except EOFError as e:\n",
    "        print(e)"
   ]
  },
  {
   "cell_type": "code",
   "execution_count": 5,
   "metadata": {},
   "outputs": [],
   "source": [
    "targetNames = np.unique(arch_label)\n",
    "le = LabelEncoder()\n",
    "target = le.fit_transform(arch_label)\n",
    "\n",
    "\n",
    "scaler = MinMaxScaler(feature_range=(0, 1))\n",
    "rescaled_features = scaler.fit_transform(arch_feature)"
   ]
  },
  {
   "cell_type": "code",
   "execution_count": 6,
   "metadata": {},
   "outputs": [
    {
     "name": "stdout",
     "output_type": "stream",
     "text": [
      "Train data  : (948, 532)\n",
      "Test data   : (238, 532)\n",
      "Train etiquetas: (948,)\n",
      "Test etiquetas : (238,)\n"
     ]
    }
   ],
   "source": [
    "(X_train, X_test, y_train, y_test) = train_test_split(np.array(rescaled_features),\n",
    "                                                      np.array(target),\n",
    "                                                      test_size = 0.2,\n",
    "                                                      random_state = 10)\n",
    "\n",
    "print(\"Train data  : {}\".format(X_train.shape))\n",
    "print(\"Test data   : {}\".format(X_test.shape))\n",
    "print(\"Train etiquetas: {}\".format(y_train.shape))\n",
    "print(\"Test etiquetas : {}\".format(y_test.shape))"
   ]
  },
  {
   "cell_type": "code",
   "execution_count": null,
   "metadata": {},
   "outputs": [],
   "source": []
  },
  {
   "cell_type": "code",
   "execution_count": 9,
   "metadata": {},
   "outputs": [],
   "source": [
    "def evaluar_modelos(X, y, cv):\n",
    "    valores_modelos = {}\n",
    "    \n",
    "    parametros = {'SVC' : {'estimator__kernel' :['poly', 'rbf', 'sigmoid'], \n",
    "                          'estimator__C' : [1, 10, 100]},\n",
    "                  'LGR' : {'estimator__solver' : ['newton-cg', 'liblinear'], \n",
    "                          'estimator__C' : [1, 10, 100]},\n",
    "                  'RTF' : {'estimator__n_estimators' : [100, 200, 300], \n",
    "                         'estimator__max_depth' : [2, 4, 8, 10],\n",
    "                         'estimator__random_state' :[2, 4, 8, 10]},\n",
    "                  'CART': {'estimator__max_depth': [1, 3, 5, 7], \n",
    "                           'estimator__max_features': [10, 20, 30, 40, 50]},\n",
    "                  'NBG' : {}\n",
    "                 }\n",
    "    \n",
    "    \n",
    "    modelos = {'SVC' : OneVsRestClassifier(SVC(gamma = 'scale')),\n",
    "               'LGR' : OneVsRestClassifier(LogisticRegression(max_iter = 300)),\n",
    "               'RTF' : OneVsRestClassifier(RandomForestClassifier()),\n",
    "               'CART': OneVsRestClassifier(DecisionTreeClassifier(random_state = 9)),\n",
    "               'NBG' : OneVsRestClassifier(GaussianNB())\n",
    "              }    \n",
    "    \n",
    "    for m in modelos:\n",
    "        clf = GridSearchCV(modelos[m], parametros[m], cv = cv, iid = False)\n",
    "        clf.fit(X, y)\n",
    "        valores_modelos[m] = [clf.best_score_, clf.best_params_, clf.refit_time_]       \n",
    "   \n",
    "    return valores_modelos"
   ]
  },
  {
   "cell_type": "code",
   "execution_count": null,
   "metadata": {},
   "outputs": [],
   "source": [
    "def evaluar_modelos_test(X, y, cv):\n",
    "    valores_modelos = {}\n",
    "    \n",
    "    parametros = {\n",
    "                  'KNN' : {'estimator__n_neighbors' : [3, 5, 11, 19], \n",
    "                           'estimator__weights' : ['uniform', 'distance']},\n",
    "                  'CART': {'estimator__max_depth': [1, 3, 5, 7], \n",
    "                           'estimator__max_features': [10, 20, 30, 40, 50]},\n",
    "                  'NBG' : {}\n",
    "                 }\n",
    "    \n",
    "    \n",
    "    modelos = {'KNN' : OneVsRestClassifier(KNeighborsClassifier()),\n",
    "               'CART': OneVsRestClassifier(DecisionTreeClassifier(random_state = 9)),\n",
    "               'NBG' : OneVsRestClassifier(GaussianNB())\n",
    "              }    \n",
    "    \n",
    "    for m in modelos:\n",
    "        clf = GridSearchCV(modelos[m], parametros[m], cv = cv, iid = False)\n",
    "        clf.fit(X, y)\n",
    "        valores_modelos[m] = [clf.best_score_, clf.best_params_, clf.refit_time_]       \n",
    "   \n",
    "    return valores_modelos"
   ]
  },
  {
   "cell_type": "code",
   "execution_count": 10,
   "metadata": {},
   "outputs": [
    {
     "data": {
      "text/plain": [
       "{'SVC': [0.8819774169466218,\n",
       "  {'estimator__C': 10, 'estimator__kernel': 'rbf'},\n",
       "  0.2947821617126465],\n",
       " 'LGR': [0.8639375699888019,\n",
       "  {'estimator__C': 10, 'estimator__solver': 'newton-cg'},\n",
       "  0.052110910415649414],\n",
       " 'RTF': [0.8862105729749906,\n",
       "  {'estimator__max_depth': 10,\n",
       "   'estimator__n_estimators': 100,\n",
       "   'estimator__random_state': 10},\n",
       "  0.2893836498260498],\n",
       " 'CART': [0.8049883351997013,\n",
       "  {'estimator__max_depth': 7, 'estimator__max_features': 20},\n",
       "  0.004080533981323242],\n",
       " 'NBG': [0.7552682904068682, {}, 0.004555702209472656]}"
      ]
     },
     "execution_count": 10,
     "metadata": {},
     "output_type": "execute_result"
    }
   ],
   "source": [
    "evaluar_modelos(X_train, y_train, 10)"
   ]
  },
  {
   "cell_type": "code",
   "execution_count": null,
   "metadata": {},
   "outputs": [],
   "source": []
  },
  {
   "cell_type": "code",
   "execution_count": null,
   "metadata": {},
   "outputs": [],
   "source": []
  },
  {
   "cell_type": "code",
   "execution_count": null,
   "metadata": {},
   "outputs": [],
   "source": []
  },
  {
   "cell_type": "code",
   "execution_count": null,
   "metadata": {},
   "outputs": [],
   "source": []
  },
  {
   "cell_type": "code",
   "execution_count": null,
   "metadata": {},
   "outputs": [],
   "source": []
  },
  {
   "cell_type": "code",
   "execution_count": null,
   "metadata": {},
   "outputs": [],
   "source": []
  },
  {
   "cell_type": "code",
   "execution_count": null,
   "metadata": {},
   "outputs": [],
   "source": []
  }
 ],
 "metadata": {
  "kernelspec": {
   "display_name": "Python 3",
   "language": "python",
   "name": "python3"
  },
  "language_info": {
   "codemirror_mode": {
    "name": "ipython",
    "version": 3
   },
   "file_extension": ".py",
   "mimetype": "text/x-python",
   "name": "python",
   "nbconvert_exporter": "python",
   "pygments_lexer": "ipython3",
   "version": "3.7.3"
  }
 },
 "nbformat": 4,
 "nbformat_minor": 2
}
