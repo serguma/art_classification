{
 "cells": [
  {
   "cell_type": "code",
   "execution_count": 1,
   "metadata": {},
   "outputs": [],
   "source": [
    "%matplotlib inline\n",
    "from matplotlib import pyplot as plt"
   ]
  },
  {
   "cell_type": "code",
   "execution_count": 2,
   "metadata": {},
   "outputs": [
    {
     "name": "stderr",
     "output_type": "stream",
     "text": [
      "Using TensorFlow backend.\n"
     ]
    }
   ],
   "source": [
    "import os\n",
    "import pickle as pck\n",
    "import numpy as np\n",
    "import pandas as pd\n",
    "\n",
    "from skimage import feature, exposure, transform, io\n",
    "\n",
    "import keras\n",
    "from keras.datasets import mnist\n",
    "from keras.models import Sequential\n",
    "from keras.layers import Dense, Dropout, Conv2D, Flatten, MaxPool2D, MaxPooling2D\n",
    "from keras.callbacks import ModelCheckpoint\n",
    "\n",
    "from keras.preprocessing.image import ImageDataGenerator\n",
    "\n",
    "from keras import backend as K\n",
    "import tensorflow"
   ]
  },
  {
   "cell_type": "code",
   "execution_count": 3,
   "metadata": {},
   "outputs": [],
   "source": [
    "#probando\n",
    "np.random.seed(40)\n",
    "tensorflow.set_random_seed(40)"
   ]
  },
  {
   "cell_type": "code",
   "execution_count": 4,
   "metadata": {},
   "outputs": [],
   "source": [
    "dir_train = 'imagenes_color/train/'\n",
    "dir_test = 'imagenes_color/test/'\n",
    "path_validar = 'imagenes_color/validar/'"
   ]
  },
  {
   "cell_type": "code",
   "execution_count": 5,
   "metadata": {},
   "outputs": [],
   "source": [
    "#estilos = ['realism', 'surrealism', 'abstract-art', 'pop-art']\n",
    "estilos = ['abstract-art', 'realism'] # Probando con dos estilos\n",
    "num_estilos = len(estilos)\n",
    "estilos_dict = {\n",
    "    'abstract-art' : 0,\n",
    "    'realism' : 1 \n",
    "}"
   ]
  },
  {
   "cell_type": "code",
   "execution_count": 6,
   "metadata": {},
   "outputs": [],
   "source": [
    "images_train = []\n",
    "for e in estilos:\n",
    "    archivos = os.listdir(os.path.join(dir_train, e))\n",
    "    for archivo in archivos:\n",
    "        images_train += [(os.path.join(e, archivo), e)]"
   ]
  },
  {
   "cell_type": "code",
   "execution_count": 7,
   "metadata": {},
   "outputs": [],
   "source": [
    "images_test = []\n",
    "for e in estilos:\n",
    "    archivos = os.listdir(os.path.join(dir_test, e))\n",
    "    for archivo in archivos:\n",
    "        images_test += [(os.path.join(e, archivo), e)]"
   ]
  },
  {
   "cell_type": "code",
   "execution_count": 8,
   "metadata": {},
   "outputs": [
    {
     "name": "stdout",
     "output_type": "stream",
     "text": [
      "Imágenes para train: 1186 \n",
      "Imágenes para test: 236\n"
     ]
    }
   ],
   "source": [
    "print('Imágenes para train: {} \\nImágenes para test: {}'.format(len(images_train), len(images_test)))"
   ]
  },
  {
   "cell_type": "code",
   "execution_count": null,
   "metadata": {},
   "outputs": [],
   "source": []
  },
  {
   "cell_type": "code",
   "execution_count": 30,
   "metadata": {},
   "outputs": [],
   "source": [
    "def carga_imagenes(xy, carpeta):\n",
    "    indices = np.arange(len(xy))\n",
    "    np.random.shuffle(indices)\n",
    "    \n",
    "    X = []\n",
    "    y = []\n",
    "    samples = len(indices)\n",
    "\n",
    "    for i in range(samples):\n",
    "        t = xy[indices[i]]\n",
    "        #print(t)\n",
    "        try:\n",
    "            img = io.imread(os.path.join(carpeta, t[0]))\n",
    "            img = transform.resize(img, (64, 64, 1), mode = 'reflect')\n",
    "            X += [img]\n",
    "            y_tmp = [0 for _ in range(num_estilos)]\n",
    "            y_tmp[estilos_dict[t[1]]] = 1\n",
    "            y += [y_tmp]\n",
    "        except OSError:\n",
    "            pass\n",
    "\n",
    "\n",
    "\n",
    "    X = np.array(X)\n",
    "    y = np.array(y)\n",
    "    \n",
    "    return X, y\n",
    "\n"
   ]
  },
  {
   "cell_type": "code",
   "execution_count": 31,
   "metadata": {},
   "outputs": [],
   "source": [
    "X_train, y_train = carga_imagenes(images_train, dir_train)"
   ]
  },
  {
   "cell_type": "code",
   "execution_count": 32,
   "metadata": {
    "scrolled": false
   },
   "outputs": [],
   "source": [
    "X_test, y_test = carga_imagenes(images_test, dir_test)"
   ]
  },
  {
   "cell_type": "code",
   "execution_count": 33,
   "metadata": {},
   "outputs": [
    {
     "data": {
      "text/plain": [
       "1186"
      ]
     },
     "execution_count": 33,
     "metadata": {},
     "output_type": "execute_result"
    }
   ],
   "source": [
    "len(X_train)"
   ]
  },
  {
   "cell_type": "code",
   "execution_count": 34,
   "metadata": {},
   "outputs": [
    {
     "data": {
      "text/plain": [
       "(1186, 64, 64, 1)"
      ]
     },
     "execution_count": 34,
     "metadata": {},
     "output_type": "execute_result"
    }
   ],
   "source": [
    "X_train.shape"
   ]
  },
  {
   "cell_type": "code",
   "execution_count": 25,
   "metadata": {},
   "outputs": [
    {
     "name": "stdout",
     "output_type": "stream",
     "text": [
      "x_train shape: (1186, 64, 64, 1)\n",
      "x_test shape: (236, 64, 64, 1)\n",
      "1186 train samples\n",
      "236 test samples\n"
     ]
    }
   ],
   "source": [
    "# Prepare data to feed the NN\n",
    "img_rows, img_cols = 64, 64\n",
    "\n",
    "\n",
    "# Ask keras which format to use depending on used backend and arrange data as expected\n",
    "if K.image_data_format() == 'channels_first':\n",
    "    X_train = x_train.reshape(X_train.shape[0], 1, img_rows, img_cols)\n",
    "    X_test = x_test.reshape(X_test.shape[0], 1, img_rows, img_cols)\n",
    "    input_shape = (1, img_rows, img_cols)\n",
    "else:\n",
    "    X_train = X_train.reshape(X_train.shape[0], img_rows, img_cols, 1)\n",
    "    X_test = X_test.reshape(X_test.shape[0], img_rows, img_cols, 1)\n",
    "    input_shape = (img_rows, img_cols, 1)\n",
    "\n",
    "# Incoming data is in uint8. Cast the input data images to be floats in range [0.0-1.0]  \n",
    "X_train = X_train.astype('float32')\n",
    "X_test = X_test.astype('float32')\n",
    "X_train /= 255\n",
    "X_test /= 255\n",
    "\n",
    "print('x_train shape:', X_train.shape)\n",
    "print('x_test shape:', X_test.shape)\n",
    "print(X_train.shape[0], 'train samples')\n",
    "print(X_test.shape[0], 'test samples')\n",
    "\n",
    "# convert class vectors to binary class matrices\n",
    "y_train = keras.utils.to_categorical(y_train, num_estilos)\n",
    "y_test = keras.utils.to_categorical(y_test, num_estilos)\n"
   ]
  },
  {
   "cell_type": "code",
   "execution_count": 26,
   "metadata": {},
   "outputs": [
    {
     "data": {
      "text/plain": [
       "numpy.ndarray"
      ]
     },
     "execution_count": 26,
     "metadata": {},
     "output_type": "execute_result"
    }
   ],
   "source": [
    "type(X_train)"
   ]
  },
  {
   "cell_type": "code",
   "execution_count": null,
   "metadata": {},
   "outputs": [],
   "source": [
    "# Se almacenan los datos preparados para el entrenamiento"
   ]
  },
  {
   "cell_type": "code",
   "execution_count": null,
   "metadata": {},
   "outputs": [],
   "source": [
    "with open('data/X_train', 'wb') as file:\n",
    "    pck.dump(X_train, file) "
   ]
  },
  {
   "cell_type": "code",
   "execution_count": null,
   "metadata": {},
   "outputs": [],
   "source": [
    "with open('data/y_train', 'wb') as file:\n",
    "    pck.dump(y_train, file) "
   ]
  },
  {
   "cell_type": "code",
   "execution_count": null,
   "metadata": {},
   "outputs": [],
   "source": [
    "with open('data/X_test', 'wb') as file:\n",
    "    pck.dump(X_test, file) "
   ]
  },
  {
   "cell_type": "code",
   "execution_count": null,
   "metadata": {},
   "outputs": [],
   "source": [
    "with open('data/y_test', 'wb') as file:\n",
    "    pck.dump(y_test, file) "
   ]
  },
  {
   "cell_type": "code",
   "execution_count": 15,
   "metadata": {},
   "outputs": [],
   "source": [
    "train_datagen = ImageDataGenerator(\n",
    "    rotation_range = 20,\n",
    "    zoom_range = 0.15,\n",
    "    horizontal_flip = True)\n",
    "\n",
    "train_datagen.fit(X_train)"
   ]
  },
  {
   "cell_type": "code",
   "execution_count": 16,
   "metadata": {},
   "outputs": [],
   "source": [
    "width = 64\n",
    "height = 64\n",
    "n_channels = 1"
   ]
  },
  {
   "cell_type": "code",
   "execution_count": 35,
   "metadata": {},
   "outputs": [],
   "source": [
    "# CNN model\n",
    "model = Sequential()\n",
    "model.add(Conv2D(32, kernel_size=5, input_shape=(width, height, n_channels), activation = 'relu'))\n",
    "model.add(MaxPool2D(pool_size=(2, 2)))\n",
    "model.add(Conv2D(48, kernel_size=3, activation = 'relu'))\n",
    "model.add(MaxPool2D(pool_size=(2, 2)))\n",
    "model.add(Flatten())\n",
    "model.add(Dropout(0.35))\n",
    "model.add(Dense(64, activation = 'sigmoid'))\n",
    "model.add(Dropout(0.25))\n",
    "model.add(Dense(num_estilos, activation = 'softmax'))\n",
    "\n",
    "\n",
    "model.compile(loss = keras.losses.categorical_crossentropy,\n",
    "              optimizer = keras.optimizers.Adadelta(),\n",
    "              metrics=['accuracy'])"
   ]
  },
  {
   "cell_type": "code",
   "execution_count": 36,
   "metadata": {},
   "outputs": [],
   "source": [
    "train_generator = train_datagen.flow(X_train, y_train, batch_size = 32)"
   ]
  },
  {
   "cell_type": "code",
   "execution_count": 37,
   "metadata": {},
   "outputs": [
    {
     "name": "stdout",
     "output_type": "stream",
     "text": [
      "Epoch 1/5\n",
      "38/37 [==============================] - 2s 62ms/step - loss: 0.6995 - acc: 0.5844 - val_loss: 1.3233 - val_acc: 0.4958\n",
      "Epoch 2/5\n",
      "38/37 [==============================] - 2s 47ms/step - loss: 0.6372 - acc: 0.6448 - val_loss: 0.5487 - val_acc: 0.7203\n",
      "Epoch 3/5\n",
      "38/37 [==============================] - 2s 48ms/step - loss: 0.5872 - acc: 0.7062 - val_loss: 0.5665 - val_acc: 0.7161\n",
      "Epoch 4/5\n",
      "38/37 [==============================] - 2s 48ms/step - loss: 0.5695 - acc: 0.7148 - val_loss: 1.1130 - val_acc: 0.5085\n",
      "Epoch 5/5\n",
      "38/37 [==============================] - 2s 48ms/step - loss: 0.5458 - acc: 0.7312 - val_loss: 0.6482 - val_acc: 0.6568\n"
     ]
    }
   ],
   "source": [
    "training_result = model.fit_generator(generator=train_generator,\n",
    "                                      validation_data = (X_test, y_test),\n",
    "                                      epochs = 5,\n",
    "                                      verbose = 1,\n",
    "                                      steps_per_epoch = len(X_train) / 32)"
   ]
  },
  {
   "cell_type": "code",
   "execution_count": null,
   "metadata": {},
   "outputs": [],
   "source": [
    "# habría que pararlo cuando vuelve a bajar ....."
   ]
  },
  {
   "cell_type": "code",
   "execution_count": 38,
   "metadata": {},
   "outputs": [],
   "source": [
    "# CNN 2\n",
    "model = Sequential()\n",
    "model.add(Conv2D(32, kernel_size=(3, 3),\n",
    "                 activation='relu',\n",
    "                 input_shape=input_shape))\n",
    "model.add(Conv2D(64, (3, 3), activation='relu'))\n",
    "model.add(MaxPooling2D(pool_size=(2, 2)))\n",
    "model.add(MaxPool2D(pool_size=(2, 2)))\n",
    "model.add(Conv2D(48, kernel_size=3, activation = 'relu'))\n",
    "model.add(MaxPool2D(pool_size=(2, 2)))\n",
    "model.add(Dropout(0.35))\n",
    "model.add(Dense(num_estilos, activation = 'softmax'))\n",
    "model.add(Dropout(0.25))\n",
    "model.add(Flatten())\n",
    "model.add(Dense(128, activation='relu'))\n",
    "model.add(Dropout(0.5))\n",
    "model.add(Dense(num_estilos, activation='softmax'))\n",
    "\n",
    "model.compile(loss=keras.losses.categorical_crossentropy,\n",
    "              optimizer=keras.optimizers.Adadelta(),\n",
    "              metrics=['accuracy'])"
   ]
  },
  {
   "cell_type": "code",
   "execution_count": 40,
   "metadata": {},
   "outputs": [
    {
     "name": "stdout",
     "output_type": "stream",
     "text": [
      "Epoch 1/35\n",
      "38/37 [==============================] - 6s 154ms/step - loss: 0.6303 - acc: 0.6453 - val_loss: 0.6046 - val_acc: 0.6907\n",
      "Epoch 2/35\n",
      "38/37 [==============================] - 7s 194ms/step - loss: 0.6257 - acc: 0.6547 - val_loss: 0.6195 - val_acc: 0.6695\n",
      "Epoch 3/35\n",
      "38/37 [==============================] - 7s 193ms/step - loss: 0.6481 - acc: 0.6353 - val_loss: 0.6006 - val_acc: 0.6737\n",
      "Epoch 4/35\n",
      "38/37 [==============================] - 7s 193ms/step - loss: 0.6307 - acc: 0.6572 - val_loss: 0.6021 - val_acc: 0.6737\n",
      "Epoch 5/35\n",
      "38/37 [==============================] - 7s 193ms/step - loss: 0.5982 - acc: 0.6848 - val_loss: 0.5910 - val_acc: 0.6992\n",
      "Epoch 6/35\n",
      "38/37 [==============================] - 7s 192ms/step - loss: 0.6280 - acc: 0.6506 - val_loss: 0.6049 - val_acc: 0.6822\n",
      "Epoch 7/35\n",
      "38/37 [==============================] - 7s 192ms/step - loss: 0.5964 - acc: 0.6852 - val_loss: 0.5707 - val_acc: 0.7288\n",
      "Epoch 8/35\n",
      "38/37 [==============================] - 7s 193ms/step - loss: 0.6132 - acc: 0.6728 - val_loss: 0.5728 - val_acc: 0.7076\n",
      "Epoch 9/35\n",
      "38/37 [==============================] - 7s 196ms/step - loss: 0.6136 - acc: 0.6572 - val_loss: 0.5664 - val_acc: 0.7246\n",
      "Epoch 10/35\n",
      "38/37 [==============================] - 8s 198ms/step - loss: 0.6069 - acc: 0.6736 - val_loss: 0.5570 - val_acc: 0.7161\n",
      "Epoch 11/35\n",
      "38/37 [==============================] - 8s 200ms/step - loss: 0.5927 - acc: 0.6909 - val_loss: 0.5544 - val_acc: 0.7458\n",
      "Epoch 12/35\n",
      "38/37 [==============================] - 8s 204ms/step - loss: 0.5896 - acc: 0.6914 - val_loss: 0.5867 - val_acc: 0.6907\n",
      "Epoch 13/35\n",
      "38/37 [==============================] - 7s 196ms/step - loss: 0.5782 - acc: 0.7090 - val_loss: 0.5642 - val_acc: 0.7288\n",
      "Epoch 14/35\n",
      "38/37 [==============================] - 7s 196ms/step - loss: 0.5689 - acc: 0.7079 - val_loss: 0.5306 - val_acc: 0.7754\n",
      "Epoch 15/35\n",
      "38/37 [==============================] - 8s 198ms/step - loss: 0.6113 - acc: 0.6805 - val_loss: 0.5314 - val_acc: 0.7500\n",
      "Epoch 16/35\n",
      "38/37 [==============================] - 8s 198ms/step - loss: 0.5891 - acc: 0.6876 - val_loss: 0.5214 - val_acc: 0.7839\n",
      "Epoch 17/35\n",
      "38/37 [==============================] - 8s 203ms/step - loss: 0.5324 - acc: 0.7408 - val_loss: 0.5517 - val_acc: 0.7203\n",
      "Epoch 18/35\n",
      "38/37 [==============================] - 7s 197ms/step - loss: 0.5433 - acc: 0.7301 - val_loss: 0.5495 - val_acc: 0.6653\n",
      "Epoch 19/35\n",
      "38/37 [==============================] - 7s 197ms/step - loss: 0.5310 - acc: 0.7457 - val_loss: 0.5844 - val_acc: 0.6483\n",
      "Epoch 20/35\n",
      "38/37 [==============================] - 7s 197ms/step - loss: 0.5369 - acc: 0.7189 - val_loss: 0.5028 - val_acc: 0.7627\n",
      "Epoch 21/35\n",
      "38/37 [==============================] - 8s 201ms/step - loss: 0.5393 - acc: 0.7411 - val_loss: 0.5287 - val_acc: 0.7161\n",
      "Epoch 22/35\n",
      "38/37 [==============================] - 7s 197ms/step - loss: 0.5376 - acc: 0.7353 - val_loss: 0.4806 - val_acc: 0.7881\n",
      "Epoch 23/35\n",
      "38/37 [==============================] - 7s 193ms/step - loss: 0.4966 - acc: 0.7597 - val_loss: 0.5105 - val_acc: 0.7458\n",
      "Epoch 24/35\n",
      "38/37 [==============================] - 7s 193ms/step - loss: 0.4989 - acc: 0.7737 - val_loss: 0.4591 - val_acc: 0.7881\n",
      "Epoch 25/35\n",
      "38/37 [==============================] - 7s 194ms/step - loss: 0.4890 - acc: 0.7729 - val_loss: 0.4681 - val_acc: 0.7754\n",
      "Epoch 26/35\n",
      "38/37 [==============================] - 7s 195ms/step - loss: 0.4971 - acc: 0.7531 - val_loss: 0.4588 - val_acc: 0.8347\n",
      "Epoch 27/35\n",
      "38/37 [==============================] - 7s 193ms/step - loss: 0.5025 - acc: 0.7559 - val_loss: 0.4713 - val_acc: 0.7797\n",
      "Epoch 28/35\n",
      "38/37 [==============================] - 7s 193ms/step - loss: 0.5087 - acc: 0.7540 - val_loss: 0.4363 - val_acc: 0.8263\n",
      "Epoch 29/35\n",
      "38/37 [==============================] - 8s 211ms/step - loss: 0.5206 - acc: 0.7370 - val_loss: 0.4499 - val_acc: 0.7966\n",
      "Epoch 30/35\n",
      "38/37 [==============================] - 7s 194ms/step - loss: 0.4884 - acc: 0.7765 - val_loss: 0.4647 - val_acc: 0.7754\n",
      "Epoch 31/35\n",
      "38/37 [==============================] - 7s 192ms/step - loss: 0.4812 - acc: 0.7671 - val_loss: 0.4478 - val_acc: 0.7966\n",
      "Epoch 32/35\n",
      "38/37 [==============================] - 8s 200ms/step - loss: 0.4808 - acc: 0.7860 - val_loss: 0.4355 - val_acc: 0.8093\n",
      "Epoch 33/35\n",
      "38/37 [==============================] - 7s 193ms/step - loss: 0.4884 - acc: 0.7447 - val_loss: 0.4385 - val_acc: 0.8220\n",
      "Epoch 34/35\n",
      "38/37 [==============================] - 7s 193ms/step - loss: 0.4805 - acc: 0.7630 - val_loss: 0.5732 - val_acc: 0.7119\n",
      "Epoch 35/35\n",
      "38/37 [==============================] - 7s 192ms/step - loss: 0.4937 - acc: 0.7609 - val_loss: 0.4750 - val_acc: 0.7839\n"
     ]
    }
   ],
   "source": [
    "training_result = model.fit_generator(generator=train_generator,\n",
    "                                      validation_data = (X_test, y_test),\n",
    "                                      epochs = 35,\n",
    "                                      verbose = 1,\n",
    "                                      steps_per_epoch = len(X_train) / 32)"
   ]
  },
  {
   "cell_type": "code",
   "execution_count": 41,
   "metadata": {},
   "outputs": [],
   "source": [
    "# CNN 3\n",
    "\n",
    "model = Sequential()\n",
    "model.add(Conv2D(32, kernel_size=(3, 3),\n",
    "                 activation='relu',\n",
    "                 input_shape=input_shape))\n",
    "model.add(Conv2D(64, (3, 3), activation='relu'))\n",
    "model.add(MaxPooling2D(pool_size=(2, 2)))\n",
    "model.add(Dropout(0.25))\n",
    "model.add(Flatten())\n",
    "model.add(Dense(128, activation='relu'))\n",
    "model.add(Dropout(0.5))\n",
    "model.add(Dense(num_estilos, activation='softmax'))\n",
    "\n",
    "model.compile(loss=keras.losses.categorical_crossentropy,\n",
    "              optimizer=keras.optimizers.Adadelta(),\n",
    "              metrics=['accuracy'])"
   ]
  },
  {
   "cell_type": "code",
   "execution_count": 42,
   "metadata": {},
   "outputs": [],
   "source": [
    "batch_size = 40\n",
    "epochs = 50"
   ]
  },
  {
   "cell_type": "code",
   "execution_count": 43,
   "metadata": {},
   "outputs": [
    {
     "name": "stdout",
     "output_type": "stream",
     "text": [
      "Epoch 1/5\n",
      "593/593 [==============================] - 142s 240ms/step - loss: 0.4837 - acc: 0.7797 - val_loss: 0.3310 - val_acc: 0.8686\n",
      "Epoch 2/5\n",
      "593/593 [==============================] - 141s 237ms/step - loss: 0.3540 - acc: 0.8519 - val_loss: 0.4399 - val_acc: 0.8051\n",
      "Epoch 3/5\n",
      "593/593 [==============================] - 140s 237ms/step - loss: 0.2938 - acc: 0.8788 - val_loss: 0.3732 - val_acc: 0.8686\n",
      "Epoch 4/5\n",
      "593/593 [==============================] - 140s 235ms/step - loss: 0.2390 - acc: 0.9077 - val_loss: 0.4781 - val_acc: 0.8136\n",
      "Epoch 5/5\n",
      "593/593 [==============================] - 141s 238ms/step - loss: 0.1927 - acc: 0.9269 - val_loss: 0.4355 - val_acc: 0.8475\n"
     ]
    }
   ],
   "source": [
    "train_generator = train_datagen.flow(X_train, y_train, batch_size = 32)\n",
    "\n",
    "training_result = model.fit_generator(generator=train_generator,\n",
    "                                      validation_data = (X_test, y_test),\n",
    "                                      epochs = 5,\n",
    "                                      verbose = 1,\n",
    "                                      steps_per_epoch = len(X_train) / 2)"
   ]
  },
  {
   "cell_type": "code",
   "execution_count": null,
   "metadata": {},
   "outputs": [],
   "source": [
    "score = model.evaluate(X_test, y_test, verbose=0)\n",
    "print('Test loss:', score[0])\n",
    "print('Test accuracy:', score[1])"
   ]
  },
  {
   "cell_type": "code",
   "execution_count": 44,
   "metadata": {},
   "outputs": [
    {
     "data": {
      "image/png": "[encoded data removed]",
      "text/plain": [
       "<Figure size 1080x216 with 2 Axes>"
      ]
     },
     "metadata": {
      "needs_background": "light"
     },
     "output_type": "display_data"
    }
   ],
   "source": [
    "fig, axes = plt.subplots(nrows=1, ncols=2, figsize=(15, 3))\n",
    "\n",
    "axes[0].plot(training_result.history['loss'], label=\"Loss\")\n",
    "axes[0].plot(training_result.history['val_loss'], label=\"Validation loss\")\n",
    "axes[0].set_title('Loss')\n",
    "axes[0].set_xlabel('Epoch')\n",
    "axes[0].set_ylabel('Loss')\n",
    "axes[0].legend()\n",
    "\n",
    "# Accuracy\n",
    "axes[1].plot(training_result.history['acc'], label=\"Accuracy\")\n",
    "axes[1].plot(training_result.history['val_acc'], label=\"Validation accuracy\")\n",
    "axes[1].set_title('Accuracy')\n",
    "axes[1].set_xlabel('Epoch')\n",
    "axes[1].set_ylabel('Accuracy')\n",
    "axes[1].legend()\n",
    "plt.tight_layout()\n",
    "\n",
    "plt.show()"
   ]
  },
  {
   "cell_type": "code",
   "execution_count": null,
   "metadata": {},
   "outputs": [],
   "source": []
  },
  {
   "cell_type": "code",
   "execution_count": null,
   "metadata": {},
   "outputs": [],
   "source": []
  },
  {
   "cell_type": "code",
   "execution_count": null,
   "metadata": {},
   "outputs": [],
   "source": []
  },
  {
   "cell_type": "code",
   "execution_count": 45,
   "metadata": {},
   "outputs": [
    {
     "name": "stdout",
     "output_type": "stream",
     "text": [
      "Train on 1186 samples, validate on 236 samples\n",
      "Epoch 1/10\n",
      "1186/1186 [==============================] - 9s 8ms/step - loss: 0.1288 - acc: 0.9444 - val_loss: 0.6104 - val_acc: 0.8559\n",
      "Epoch 2/10\n",
      "1186/1186 [==============================] - 10s 8ms/step - loss: 0.1521 - acc: 0.9427 - val_loss: 0.3463 - val_acc: 0.8814\n",
      "Epoch 3/10\n",
      "1186/1186 [==============================] - 10s 9ms/step - loss: 0.0575 - acc: 0.9823 - val_loss: 0.4380 - val_acc: 0.8856\n",
      "Epoch 4/10\n",
      "1186/1186 [==============================] - 10s 9ms/step - loss: 0.0731 - acc: 0.9722 - val_loss: 0.3996 - val_acc: 0.9110\n",
      "Epoch 5/10\n",
      "1186/1186 [==============================] - 10s 9ms/step - loss: 0.0387 - acc: 0.9865 - val_loss: 0.4118 - val_acc: 0.8856\n",
      "Epoch 6/10\n",
      "1186/1186 [==============================] - 10s 9ms/step - loss: 0.0304 - acc: 0.9907 - val_loss: 0.4006 - val_acc: 0.8898\n",
      "Epoch 7/10\n",
      "1186/1186 [==============================] - 10s 9ms/step - loss: 0.0216 - acc: 0.9949 - val_loss: 0.4854 - val_acc: 0.8898\n",
      "Epoch 8/10\n",
      "1186/1186 [==============================] - 10s 9ms/step - loss: 0.0243 - acc: 0.9907 - val_loss: 0.4281 - val_acc: 0.8941\n",
      "Epoch 9/10\n",
      "1186/1186 [==============================] - 10s 9ms/step - loss: 0.0191 - acc: 0.9933 - val_loss: 0.4389 - val_acc: 0.8729\n",
      "Epoch 10/10\n",
      "1186/1186 [==============================] - 10s 9ms/step - loss: 0.0140 - acc: 0.9958 - val_loss: 0.5111 - val_acc: 0.8941\n"
     ]
    },
    {
     "data": {
      "text/plain": [
       "<keras.callbacks.History at 0x7ff811958c18>"
      ]
     },
     "execution_count": 45,
     "metadata": {},
     "output_type": "execute_result"
    }
   ],
   "source": [
    "batch_size = 20\n",
    "epochs = 10\n",
    "\n",
    "model.fit(X_train, y_train,\n",
    "          batch_size=batch_size,\n",
    "          epochs=epochs,\n",
    "          verbose=1,\n",
    "          validation_data=(X_test, y_test))"
   ]
  },
  {
   "cell_type": "code",
   "execution_count": 46,
   "metadata": {},
   "outputs": [
    {
     "data": {
      "image/png": "[encoded data removed]",
      "text/plain": [
       "<Figure size 1080x216 with 2 Axes>"
      ]
     },
     "metadata": {
      "needs_background": "light"
     },
     "output_type": "display_data"
    }
   ],
   "source": [
    "fig, axes = plt.subplots(nrows=1, ncols=2, figsize=(15, 3))\n",
    "\n",
    "axes[0].plot(training_result.history['loss'], label=\"Loss\")\n",
    "axes[0].plot(training_result.history['val_loss'], label=\"Validation loss\")\n",
    "axes[0].set_title('Loss')\n",
    "axes[0].set_xlabel('Epoch')\n",
    "axes[0].set_ylabel('Loss')\n",
    "axes[0].legend()\n",
    "\n",
    "# Accuracy\n",
    "axes[1].plot(training_result.history['acc'], label=\"Accuracy\")\n",
    "axes[1].plot(training_result.history['val_acc'], label=\"Validation accuracy\")\n",
    "axes[1].set_title('Accuracy')\n",
    "axes[1].set_xlabel('Epoch')\n",
    "axes[1].set_ylabel('Accuracy')\n",
    "axes[1].legend()\n",
    "plt.tight_layout()\n",
    "\n",
    "plt.show()"
   ]
  },
  {
   "cell_type": "code",
   "execution_count": 47,
   "metadata": {},
   "outputs": [
    {
     "name": "stdout",
     "output_type": "stream",
     "text": [
      "Test loss: 0.5110648289575415\n",
      "Test accuracy: 0.8940677976204177\n"
     ]
    }
   ],
   "source": [
    "score = model.evaluate(X_test, y_test, verbose=0)\n",
    "print('Test loss:', score[0])\n",
    "print('Test accuracy:', score[1])"
   ]
  },
  {
   "cell_type": "code",
   "execution_count": null,
   "metadata": {},
   "outputs": [],
   "source": []
  }
 ],
 "metadata": {
  "kernelspec": {
   "display_name": "Python 3",
   "language": "python",
   "name": "python3"
  },
  "language_info": {
   "codemirror_mode": {
    "name": "ipython",
    "version": 3
   },
   "file_extension": ".py",
   "mimetype": "text/x-python",
   "name": "python",
   "nbconvert_exporter": "python",
   "pygments_lexer": "ipython3",
   "version": "3.7.3"
  }
 },
 "nbformat": 4,
 "nbformat_minor": 2
}
