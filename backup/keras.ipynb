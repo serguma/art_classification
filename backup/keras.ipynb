{
 "cells": [
  {
   "cell_type": "markdown",
   "metadata": {},
   "source": [
    "## CNN\n",
    "Se utilizan directamente las carpetas de imágenes"
   ]
  },
  {
   "cell_type": "code",
   "execution_count": 3,
   "metadata": {},
   "outputs": [],
   "source": [
    "from __future__ import absolute_import, division, print_function, unicode_literals"
   ]
  },
  {
   "cell_type": "code",
   "execution_count": 4,
   "metadata": {},
   "outputs": [],
   "source": [
    "%matplotlib inline\n",
    "from matplotlib import pyplot as plt\n",
    "import seaborn as sns"
   ]
  },
  {
   "cell_type": "code",
   "execution_count": 5,
   "metadata": {},
   "outputs": [
    {
     "name": "stderr",
     "output_type": "stream",
     "text": [
      "Using TensorFlow backend.\n"
     ]
    }
   ],
   "source": [
    "import os\n",
    "import pickle as pck\n",
    "import h5py as h5 # para guardar toda el modelo\n",
    "import numpy as np\n",
    "import pandas as pd\n",
    "\n",
    "from skimage import feature, exposure, transform, io\n",
    "\n",
    "import keras\n",
    "from keras.datasets import mnist\n",
    "from keras.models import Sequential\n",
    "from keras.layers import Dense, Dropout, Conv2D, Flatten, MaxPool2D, MaxPooling2D\n",
    "from keras.callbacks import ModelCheckpoint\n",
    "\n",
    "from keras.preprocessing.image import ImageDataGenerator, img_to_array, load_img \n",
    "from sklearn.metrics import classification_report, confusion_matrix\n",
    "\n",
    "from sklearn.preprocessing import LabelEncoder, MinMaxScaler\n",
    "from sklearn.model_selection import train_test_split, cross_val_score\n",
    "\n",
    "from keras import backend as K\n",
    "import tensorflow as tf\n",
    "\n",
    "from PIL import ImageFile\n",
    "ImageFile.LOAD_TRUNCATED_IMAGES = True"
   ]
  },
  {
   "cell_type": "code",
   "execution_count": 6,
   "metadata": {},
   "outputs": [],
   "source": [
    "estilos = ['abstract-art', 'realism']"
   ]
  },
  {
   "cell_type": "code",
   "execution_count": 31,
   "metadata": {},
   "outputs": [],
   "source": [
    "path_data = 'data/'\n",
    "path_train = 'imagenes_color/train/'\n",
    "path_test = 'imagenes_color/test/'\n",
    "path_validar = 'imagenes_color/validar/'\n",
    "path_features = 'features/'\n",
    "path_training = 'training/'"
   ]
  },
  {
   "cell_type": "code",
   "execution_count": 8,
   "metadata": {},
   "outputs": [],
   "source": [
    "img_width, img_height = 64, 64"
   ]
  },
  {
   "cell_type": "code",
   "execution_count": 9,
   "metadata": {},
   "outputs": [],
   "source": [
    "def crear_modelo(num_estilos = 2):\n",
    "    \n",
    "    if K.image_data_format() == 'channels_first': \n",
    "        input_shape = (3, img_width, img_height) \n",
    "    else: \n",
    "        input_shape = (img_width, img_height, 3)     \n",
    "    \n",
    "    model = Sequential()\n",
    "    model.add(Conv2D(32, \n",
    "                     kernel_size = 5, \n",
    "                     input_shape = input_shape, \n",
    "                     activation = 'relu'))\n",
    "    model.add(MaxPool2D(pool_size = (2, 2)))\n",
    "    model.add(Conv2D(48, \n",
    "                     kernel_size = 3, \n",
    "                     activation = 'relu'))\n",
    "    model.add(MaxPool2D(pool_size = (2, 2)))\n",
    "    model.add(Flatten())\n",
    "    model.add(Dropout(0.35))\n",
    "    model.add(Dense(64, activation = 'sigmoid'))\n",
    "    model.add(Dropout(0.25))\n",
    "    model.add(Dense(num_estilos, activation = 'softmax'))\n",
    "\n",
    "    #optimizer=keras.optimizers.RMSprop()\n",
    "    model.compile(loss = keras.losses.categorical_crossentropy,\n",
    "                  optimizer=keras.optimizers.RMSprop(),\n",
    "                  metrics=['accuracy'])    \n",
    "    \n",
    "    return model\n",
    "    "
   ]
  },
  {
   "cell_type": "code",
   "execution_count": 11,
   "metadata": {},
   "outputs": [
    {
     "name": "stdout",
     "output_type": "stream",
     "text": [
      "_________________________________________________________________\n",
      "Layer (type)                 Output Shape              Param #   \n",
      "=================================================================\n",
      "conv2d_3 (Conv2D)            (None, 60, 60, 32)        2432      \n",
      "_________________________________________________________________\n",
      "max_pooling2d_3 (MaxPooling2 (None, 30, 30, 32)        0         \n",
      "_________________________________________________________________\n",
      "conv2d_4 (Conv2D)            (None, 28, 28, 48)        13872     \n",
      "_________________________________________________________________\n",
      "max_pooling2d_4 (MaxPooling2 (None, 14, 14, 48)        0         \n",
      "_________________________________________________________________\n",
      "flatten_2 (Flatten)          (None, 9408)              0         \n",
      "_________________________________________________________________\n",
      "dropout_3 (Dropout)          (None, 9408)              0         \n",
      "_________________________________________________________________\n",
      "dense_3 (Dense)              (None, 64)                602176    \n",
      "_________________________________________________________________\n",
      "dropout_4 (Dropout)          (None, 64)                0         \n",
      "_________________________________________________________________\n",
      "dense_4 (Dense)              (None, 2)                 130       \n",
      "=================================================================\n",
      "Total params: 618,610\n",
      "Trainable params: 618,610\n",
      "Non-trainable params: 0\n",
      "_________________________________________________________________\n"
     ]
    }
   ],
   "source": [
    "modelo = crear_modelo()\n",
    "modelo.summary()"
   ]
  },
  {
   "cell_type": "code",
   "execution_count": 13,
   "metadata": {},
   "outputs": [],
   "source": [
    "def lista_imagenes(path):\n",
    "    imagenes = []\n",
    "    for e in estilos:\n",
    "        archivos = os.listdir(os.path.join(path, e))\n",
    "        for archivo in archivos:\n",
    "            imagenes += [(os.path.join(e, archivo), e)]\n",
    "            \n",
    "    return imagenes"
   ]
  },
  {
   "cell_type": "code",
   "execution_count": 14,
   "metadata": {},
   "outputs": [],
   "source": [
    "images_train = lista_imagenes(path_train)\n",
    "images_test = lista_imagenes(path_test)"
   ]
  },
  {
   "cell_type": "code",
   "execution_count": 15,
   "metadata": {},
   "outputs": [
    {
     "name": "stdout",
     "output_type": "stream",
     "text": [
      "Imágenes para train: 1198 \n",
      "Imágenes para test: 238\n"
     ]
    }
   ],
   "source": [
    "print('Imágenes para train: {} \\nImágenes para test: {}'.format(len(images_train), len(images_test)))"
   ]
  },
  {
   "cell_type": "code",
   "execution_count": 20,
   "metadata": {},
   "outputs": [],
   "source": [
    "train_samples = len(images_train) \n",
    "test_samples = len(images_test)\n",
    "batch_size = 16\n",
    "epochs = 10"
   ]
  },
  {
   "cell_type": "code",
   "execution_count": 21,
   "metadata": {},
   "outputs": [],
   "source": [
    "train_datagen = ImageDataGenerator(\n",
    "    rescale = 1. / 255,\n",
    "    shear_range = 0.2,\n",
    "    zoom_range = 0.2,   \n",
    "    horizontal_flip = False)"
   ]
  },
  {
   "cell_type": "code",
   "execution_count": 25,
   "metadata": {},
   "outputs": [
    {
     "name": "stdout",
     "output_type": "stream",
     "text": [
      "Found 1198 images belonging to 2 classes.\n"
     ]
    }
   ],
   "source": [
    "train_generator = train_datagen.flow_from_directory(path_train, \n",
    "                                                    target_size =(img_width, img_height), \n",
    "                                                    batch_size = batch_size, \n",
    "                                                    color_mode = 'rgb',\n",
    "                                                    shuffle = True, \n",
    "                                                    class_mode = 'categorical')"
   ]
  },
  {
   "cell_type": "code",
   "execution_count": 26,
   "metadata": {},
   "outputs": [],
   "source": [
    "test_datagen = ImageDataGenerator(rescale = 1. / 255) "
   ]
  },
  {
   "cell_type": "code",
   "execution_count": 27,
   "metadata": {},
   "outputs": [
    {
     "name": "stdout",
     "output_type": "stream",
     "text": [
      "Found 238 images belonging to 2 classes.\n"
     ]
    }
   ],
   "source": [
    "test_generator = test_datagen.flow_from_directory(path_test, \n",
    "                                                  target_size =(img_width, img_height), \n",
    "                                                  batch_size = batch_size, \n",
    "                                                  color_mode = 'rgb',\n",
    "                                                  shuffle = True, \n",
    "                                                  class_mode = 'categorical')"
   ]
  },
  {
   "cell_type": "code",
   "execution_count": 33,
   "metadata": {
    "scrolled": true
   },
   "outputs": [
    {
     "name": "stdout",
     "output_type": "stream",
     "text": [
      "Epoch 1/10\n",
      "74/74 [==============================] - 15s 197ms/step - loss: 0.1367 - acc: 0.9508 - val_loss: 0.4281 - val_acc: 0.8739\n",
      "Epoch 2/10\n",
      "74/74 [==============================] - 14s 185ms/step - loss: 0.1156 - acc: 0.9552 - val_loss: 0.4282 - val_acc: 0.8964\n",
      "Epoch 3/10\n",
      "74/74 [==============================] - 15s 199ms/step - loss: 0.0961 - acc: 0.9611 - val_loss: 0.6623 - val_acc: 0.8378\n",
      "Epoch 4/10\n",
      "74/74 [==============================] - 15s 206ms/step - loss: 0.1151 - acc: 0.9653 - val_loss: 0.6211 - val_acc: 0.8527\n",
      "Epoch 5/10\n",
      "74/74 [==============================] - 15s 198ms/step - loss: 0.1100 - acc: 0.9578 - val_loss: 0.4911 - val_acc: 0.8829\n",
      "Epoch 6/10\n",
      "74/74 [==============================] - 15s 199ms/step - loss: 0.0861 - acc: 0.9671 - val_loss: 0.5216 - val_acc: 0.8694\n",
      "Epoch 7/10\n",
      "74/74 [==============================] - 16s 217ms/step - loss: 0.0944 - acc: 0.9628 - val_loss: 0.5416 - val_acc: 0.8739\n",
      "Epoch 8/10\n",
      "74/74 [==============================] - 14s 188ms/step - loss: 0.0761 - acc: 0.9721 - val_loss: 0.5873 - val_acc: 0.8784\n",
      "Epoch 9/10\n",
      "74/74 [==============================] - 14s 196ms/step - loss: 0.1089 - acc: 0.9586 - val_loss: 0.6253 - val_acc: 0.8694\n",
      "Epoch 10/10\n",
      "74/74 [==============================] - 15s 208ms/step - loss: 0.0673 - acc: 0.9778 - val_loss: 0.3947 - val_acc: 0.8964\n"
     ]
    }
   ],
   "source": [
    "modelo.fit_generator(train_generator, \n",
    "                     steps_per_epoch = train_samples // batch_size, \n",
    "                     epochs = epochs, \n",
    "                     validation_data = test_generator,\n",
    "                     validation_steps = test_samples // batch_size) \n",
    "  \n",
    "modelo.save(path_training + 'model_saved-C.h5') "
   ]
  },
  {
   "cell_type": "markdown",
   "metadata": {},
   "source": [
    "### Se evalua el modelo"
   ]
  },
  {
   "cell_type": "code",
   "execution_count": 35,
   "metadata": {},
   "outputs": [
    {
     "data": {
      "text/plain": [
       "[0.5496514011342246, 0.8828828818089253]"
      ]
     },
     "execution_count": 35,
     "metadata": {},
     "output_type": "execute_result"
    }
   ],
   "source": [
    "modelo.evaluate_generator(generator = test_generator, \n",
    "                          steps = test_samples // batch_size)"
   ]
  },
  {
   "cell_type": "markdown",
   "metadata": {},
   "source": [
    "### Se realiza una prueba"
   ]
  },
  {
   "cell_type": "code",
   "execution_count": 60,
   "metadata": {},
   "outputs": [],
   "source": [
    "image_path = 'imagenes_color/validar/abstract-art/(abstract-art)481-caeruluus-c8.jpg'\n",
    "\n",
    "image = load_img(image_path, target_size=(img_width, img_height))  \n",
    "image = img_to_array(image)  \n",
    "  \n",
    "image = image / 255  \n",
    "\n",
    "image = np.expand_dims(image, axis=0)"
   ]
  },
  {
   "cell_type": "code",
   "execution_count": 61,
   "metadata": {},
   "outputs": [],
   "source": [
    "prediccion = modelo.predict(image)  "
   ]
  },
  {
   "cell_type": "code",
   "execution_count": 62,
   "metadata": {},
   "outputs": [
    {
     "data": {
      "text/plain": [
       "array([[0.9867495 , 0.01325054]], dtype=float32)"
      ]
     },
     "execution_count": 62,
     "metadata": {},
     "output_type": "execute_result"
    }
   ],
   "source": [
    "prediccion"
   ]
  },
  {
   "cell_type": "code",
   "execution_count": 63,
   "metadata": {},
   "outputs": [],
   "source": [
    "predict = modelo.predict_classes(image, batch_size = 16)"
   ]
  },
  {
   "cell_type": "code",
   "execution_count": 64,
   "metadata": {},
   "outputs": [
    {
     "name": "stdout",
     "output_type": "stream",
     "text": [
      "abstract-art\n"
     ]
    },
    {
     "data": {
      "text/plain": [
       "array([0])"
      ]
     },
     "execution_count": 64,
     "metadata": {},
     "output_type": "execute_result"
    }
   ],
   "source": [
    "print(estilos[predict[0]])\n",
    "predict"
   ]
  },
  {
   "cell_type": "code",
   "execution_count": 65,
   "metadata": {},
   "outputs": [
    {
     "name": "stdout",
     "output_type": "stream",
     "text": [
      "Found 480 images belonging to 2 classes.\n"
     ]
    }
   ],
   "source": [
    "valida_datagen = ImageDataGenerator(rescale = 1. / 255)\n",
    "valida_data_generator = valida_datagen.flow_from_directory(path_validar, \n",
    "                                                         target_size =(img_width, img_height), \n",
    "                                                        batch_size = batch_size, \n",
    "                                                        color_mode = 'rgb',\n",
    "                                                        shuffle = False, \n",
    "                                                        class_mode = 'categorical')\n",
    "\n",
    "test_steps_per_epoch = np.math.ceil(valida_data_generator.samples / valida_data_generator.batch_size)\n",
    "predictions = modelo.predict_generator(valida_data_generator, steps=test_steps_per_epoch)\n",
    "predicted_classes = np.argmax(predictions, axis=1)"
   ]
  },
  {
   "cell_type": "code",
   "execution_count": null,
   "metadata": {},
   "outputs": [],
   "source": []
  },
  {
   "cell_type": "code",
   "execution_count": null,
   "metadata": {},
   "outputs": [],
   "source": []
  },
  {
   "cell_type": "code",
   "execution_count": 66,
   "metadata": {},
   "outputs": [],
   "source": [
    "true_classes = valida_data_generator.classes\n",
    "class_labels = list(valida_data_generator.class_indices.keys())  "
   ]
  },
  {
   "cell_type": "code",
   "execution_count": 67,
   "metadata": {},
   "outputs": [
    {
     "name": "stdout",
     "output_type": "stream",
     "text": [
      "[[214  26]\n",
      " [ 68 172]]\n"
     ]
    }
   ],
   "source": [
    "confusion = confusion_matrix(true_classes, predicted_classes)\n",
    "print(confusion)"
   ]
  },
  {
   "cell_type": "code",
   "execution_count": 68,
   "metadata": {},
   "outputs": [
    {
     "name": "stdout",
     "output_type": "stream",
     "text": [
      "              precision    recall  f1-score   support\n",
      "\n",
      "abstract-art       0.76      0.89      0.82       240\n",
      "     realism       0.87      0.72      0.79       240\n",
      "\n",
      "   micro avg       0.80      0.80      0.80       480\n",
      "   macro avg       0.81      0.80      0.80       480\n",
      "weighted avg       0.81      0.80      0.80       480\n",
      "\n"
     ]
    }
   ],
   "source": [
    "import sklearn.metrics as metrics\n",
    "report = metrics.classification_report(true_classes, predicted_classes, target_names=class_labels)\n",
    "print(report)    "
   ]
  },
  {
   "cell_type": "code",
   "execution_count": null,
   "metadata": {},
   "outputs": [],
   "source": []
  },
  {
   "cell_type": "code",
   "execution_count": null,
   "metadata": {},
   "outputs": [],
   "source": []
  }
 ],
 "metadata": {
  "kernelspec": {
   "display_name": "Python 3",
   "language": "python",
   "name": "python3"
  },
  "language_info": {
   "codemirror_mode": {
    "name": "ipython",
    "version": 3
   },
   "file_extension": ".py",
   "mimetype": "text/x-python",
   "name": "python",
   "nbconvert_exporter": "python",
   "pygments_lexer": "ipython3",
   "version": "3.7.3"
  }
 },
 "nbformat": 4,
 "nbformat_minor": 2
}
