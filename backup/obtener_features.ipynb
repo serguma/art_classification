{
 "cells": [
  {
   "cell_type": "markdown",
   "metadata": {},
   "source": [
    "## Se obtienen features de las imágenes"
   ]
  },
  {
   "cell_type": "code",
   "execution_count": 23,
   "metadata": {},
   "outputs": [],
   "source": [
    "%matplotlib inline\n",
    "from matplotlib import pyplot as plt\n",
    "import seaborn as sns"
   ]
  },
  {
   "cell_type": "code",
   "execution_count": 24,
   "metadata": {},
   "outputs": [],
   "source": [
    "from sklearn.feature_extraction import image\n",
    "from sklearn.preprocessing import LabelEncoder, MinMaxScaler\n",
    "\n",
    "from skimage import feature, exposure, io\n",
    "import mahotas\n",
    "\n",
    "from PIL import Image\n",
    "import cv2 as cv\n",
    "\n",
    "import os\n",
    "import pickle as pc\n",
    "\n",
    "import numpy as np\n",
    "import pandas as pd"
   ]
  },
  {
   "cell_type": "code",
   "execution_count": 10,
   "metadata": {},
   "outputs": [],
   "source": [
    "estilos = ['abstract-art', 'realism']"
   ]
  },
  {
   "cell_type": "code",
   "execution_count": 11,
   "metadata": {},
   "outputs": [],
   "source": [
    "def uno_estilo(estilos):\n",
    "    imagenes = []\n",
    "    for e in estilos:\n",
    "        path = 'imagenes_color/train/{}/'.format(e)\n",
    "        imagen = cv.imread([os.path.join(path, p) for p in sorted(os.listdir(path))][1])\n",
    "        imagenes.append(imagen)\n",
    "        \n",
    "    return imagenes"
   ]
  },
  {
   "cell_type": "code",
   "execution_count": 54,
   "metadata": {},
   "outputs": [],
   "source": [
    "path_data = 'data/'\n",
    "path_train = 'imagenes_color/train/'\n",
    "path_test = 'imagenes_color/test/'\n",
    "path_validar = 'imagenes_color/validar/'\n",
    "path_features = 'features/'\n",
    "path_training = 'training/'"
   ]
  },
  {
   "cell_type": "markdown",
   "metadata": {},
   "source": [
    "#### Local features"
   ]
  },
  {
   "cell_type": "code",
   "execution_count": 13,
   "metadata": {},
   "outputs": [],
   "source": [
    "def sift_ft(imagen):\n",
    "    sift = cv.xfeatures2d.SIFT_create()\n",
    "    keypoints_sift, descriptors = sift.detectAndCompute(imagen, None)\n",
    "    return descriptors"
   ]
  },
  {
   "cell_type": "code",
   "execution_count": 14,
   "metadata": {},
   "outputs": [],
   "source": [
    "def surf_ft(imagen):\n",
    "    surf = cv.xfeatures2d.SURF_create()\n",
    "    keypoints_surf, descriptors = surf.detectAndCompute(imagen, None)\n",
    "    return descriptors"
   ]
  },
  {
   "cell_type": "code",
   "execution_count": 15,
   "metadata": {},
   "outputs": [],
   "source": [
    "def orb_ft(imagen):\n",
    "    orb = cv.ORB_create(nfeatures = 256)\n",
    "    keypoints_orb, descriptors = orb.detectAndCompute(imagen, None)\n",
    "    return descriptors"
   ]
  },
  {
   "cell_type": "markdown",
   "metadata": {},
   "source": [
    "#### Global features"
   ]
  },
  {
   "cell_type": "code",
   "execution_count": 38,
   "metadata": {},
   "outputs": [],
   "source": [
    "def hu_moments(imagen):\n",
    "    imagen = cv.cvtColor(imagen, cv.COLOR_BGR2GRAY)\n",
    "    feature = cv.HuMoments(cv.moments(imagen)).flatten()\n",
    "    return feature"
   ]
  },
  {
   "cell_type": "code",
   "execution_count": 39,
   "metadata": {},
   "outputs": [],
   "source": [
    "def textura(imagen):\n",
    "    gris = cv.cvtColor(imagen, cv.COLOR_BGR2GRAY)\n",
    "    haralick = mahotas.features.haralick(gris).mean(axis=0)\n",
    "    return haralick"
   ]
  },
  {
   "cell_type": "code",
   "execution_count": 40,
   "metadata": {},
   "outputs": [],
   "source": [
    "def histograma(imagen, mask = None):\n",
    "    hist = cv.calcHist([imagen],[0], None, [256], [0,256])\n",
    "    cv.normalize(hist, hist)\n",
    "    return hist.flatten()"
   ]
  },
  {
   "cell_type": "code",
   "execution_count": 41,
   "metadata": {},
   "outputs": [],
   "source": [
    "def histograma_color(imagen, mask = None):\n",
    "    imagen = cv.cvtColor(imagen, cv.COLOR_BGR2HSV)\n",
    "    hist  = cv.calcHist([imagen], [0, 1, 2], None, [8, 8, 8], [0, 256, 0, 256, 0, 256])\n",
    "    cv.normalize(hist, hist)\n",
    "    return hist.flatten()"
   ]
  },
  {
   "cell_type": "code",
   "execution_count": 42,
   "metadata": {},
   "outputs": [],
   "source": [
    "def hog_ft(imagen):\n",
    "    img_hog = feature.hog(imagen, orientations = 9, \n",
    "                          pixels_per_cell = (8, 8),\n",
    "                          cells_per_block = (1, 1))\n",
    " \n",
    "    return img_hog"
   ]
  },
  {
   "cell_type": "code",
   "execution_count": 43,
   "metadata": {},
   "outputs": [
    {
     "data": {
      "image/png": "[encoded data removed]",
      "text/plain": [
       "<Figure size 432x288 with 1 Axes>"
      ]
     },
     "metadata": {
      "needs_background": "light"
     },
     "output_type": "display_data"
    },
    {
     "data": {
      "image/png": "[encoded data removed]",
      "text/plain": [
       "<Figure size 432x288 with 1 Axes>"
      ]
     },
     "metadata": {
      "needs_background": "light"
     },
     "output_type": "display_data"
    },
    {
     "data": {
      "text/plain": [
       "<Figure size 432x288 with 0 Axes>"
      ]
     },
     "metadata": {},
     "output_type": "display_data"
    }
   ],
   "source": [
    "for i in range(len(una_de_cada)):\n",
    "    probando_hist = hog_ft(una_de_cada[i])\n",
    "    plt.plot(probando_hist)\n",
    "    plt.title(estilos[i])\n",
    "    plt.figure()"
   ]
  },
  {
   "cell_type": "code",
   "execution_count": 44,
   "metadata": {},
   "outputs": [],
   "source": [
    "tamano = (256, 256)"
   ]
  },
  {
   "cell_type": "code",
   "execution_count": 45,
   "metadata": {},
   "outputs": [],
   "source": [
    "def dibuja_matriz(matrix, title, columnas, formato = 0):\n",
    "    '''\n",
    "    Para dibujar la matriz de confusión\n",
    "    matrix : matrix de confusión\n",
    "    title: título para el gráfico\n",
    "    columnas: nombre para las columnas (lista)\n",
    "    formato: el formato para mostrar los datos\n",
    "        1 : .2f\n",
    "        2 : .2%\n",
    "        3 : d\n",
    "    '''\n",
    "    if formato == 1:\n",
    "        fmt = '.2f'\n",
    "    elif formato == 2:\n",
    "        fmt = '.2%'\n",
    "    elif format == 3:\n",
    "        fmt = 'd'\n",
    "    else:\n",
    "        fmt = ''\n",
    "    \n",
    "    \n",
    "    df = pd.DataFrame(matrix, \n",
    "                         index = [i for i in columnas],\n",
    "                         columns = [i for i in columnas])\n",
    "\n",
    "    plt.figure(figsize = (10,8))\n",
    "    sns.heatmap(df ,linewidths = .1, cmap = 'YlGnBu', fmt = fmt, annot = True)\n",
    "    plt.title(title)\n",
    "    plt.yticks(rotation = 0);"
   ]
  },
  {
   "cell_type": "code",
   "execution_count": 50,
   "metadata": {},
   "outputs": [],
   "source": [
    "def guardar_archivo(contenido, path_archivo):\n",
    "    archivo = ''\n",
    "    with (open(path_archivo, 'wb')) as pc_file:\n",
    "        try:\n",
    "            pc.dump(contenido, pc_file)\n",
    "        except EOFError as e:\n",
    "            print(e)\n",
    "            \n",
    "    return True"
   ]
  },
  {
   "cell_type": "code",
   "execution_count": 51,
   "metadata": {},
   "outputs": [],
   "source": [
    "def obtener_archivo(path_archivo):\n",
    "    archivo = ''\n",
    "    with (open(path_archivo, 'rb')) as pc_file:\n",
    "        try:\n",
    "            archivo = pc.load(pc_file)\n",
    "        except EOFError as e:\n",
    "            print(e)\n",
    "            \n",
    "    return archivo"
   ]
  },
  {
   "cell_type": "code",
   "execution_count": 67,
   "metadata": {},
   "outputs": [],
   "source": [
    "def features_imagenes(path, arc_features, arc_label):\n",
    "    '''\n",
    "    almacena todas las features en un archivo pickle\n",
    "    path: ruta de las imágenes\n",
    "    archivo: nombre para el pickle\n",
    "    '''\n",
    "    label = []\n",
    "    feature = []\n",
    "    for e in estilos:\n",
    "        archivos = [os.path.join(path+e, p) for p in sorted(os.listdir(path+e))]\n",
    " \n",
    "        print(e)\n",
    "        for a in archivos:\n",
    "\n",
    "            imagen = a.split('/')[-1].lower()\n",
    "            img_arch = cv.imread(a)\n",
    "            img_arch = cv.resize(img_arch, tamano)\n",
    "\n",
    "            #Probando con estas feature    \n",
    "            hu = hu_moments(img_arch)\n",
    "            haralick_im   = textura(img_arch)\n",
    "            histograma_im  = histograma_color(img_arch)\n",
    "\n",
    "            features_imagen = np.hstack([histograma_im, haralick_im, hu])            \n",
    "            \n",
    "            label.append(e)\n",
    "            feature.append(features_imagen)\n",
    "\n",
    "    guardar_archivo(feature, path_features + arc_features)\n",
    "    guardar_archivo(label, path_features + arc_label)       \n",
    "\n"
   ]
  },
  {
   "cell_type": "code",
   "execution_count": 68,
   "metadata": {
    "scrolled": true
   },
   "outputs": [
    {
     "name": "stdout",
     "output_type": "stream",
     "text": [
      "abstract-art\n",
      "realism\n",
      "abstract-art\n",
      "realism\n"
     ]
    }
   ],
   "source": [
    "features_imagenes(path_train, 'features-train.pck', 'label-train.pck')\n",
    "features_imagenes(path_test, 'features-test.pck', 'label-test.pck')"
   ]
  }
 ],
 "metadata": {
  "kernelspec": {
   "display_name": "Python 3",
   "language": "python",
   "name": "python3"
  },
  "language_info": {
   "codemirror_mode": {
    "name": "ipython",
    "version": 3
   },
   "file_extension": ".py",
   "mimetype": "text/x-python",
   "name": "python",
   "nbconvert_exporter": "python",
   "pygments_lexer": "ipython3",
   "version": "3.7.3"
  }
 },
 "nbformat": 4,
 "nbformat_minor": 2
}
